{
 "cells": [
  {
   "cell_type": "markdown",
   "metadata": {},
   "source": [
    "The derivative of a function at some point characterizes the rate of change of the function at this point. We can estimate the derivative of a function $f$ at point x as follows:\n",
    "$$\\frac{d}{dx}f = lim_{\\Delta x \\rightarrow \\infty} \\frac{f(x + \\Delta x) - f(x)}{\\Delta x}$$\n",
    "\n"
   ]
  },
  {
   "cell_type": "markdown",
   "metadata": {},
   "source": [
    "### Sum Rule ###\n",
    "\n",
    "$$ \\frac{d}{dx} (f(x) + g(x)) = \\frac{d}{dx}f(x) + \\frac{d}{dx}g(x) $$"
   ]
  },
  {
   "cell_type": "markdown",
   "metadata": {},
   "source": [
    "### Power Rule ###\n",
    "$$ f(x) = ax^b \\rightarrow \\frac{d}{dx}f = abx^{b-1}$$"
   ]
  },
  {
   "cell_type": "markdown",
   "metadata": {},
   "source": [
    "### Product Rule ###\n",
    "$$ \\frac{d}{dx} f(x)g(x) = f(x)\\frac{d}{dx}g(x) + g(x)\\frac{d}{dx}f(x) $$"
   ]
  },
  {
   "cell_type": "markdown",
   "metadata": {},
   "source": [
    "### Chain Rule ###\n",
    "$$\n",
    "F(x) = f(g(x)) \\rightarrow \\frac{d}{dx}F(x) = \\frac{d}{d(g(x))}f(g(x))*\\frac{d}{dx}g(x)\n",
    "$$"
   ]
  },
  {
   "cell_type": "markdown",
   "metadata": {},
   "source": [
    "### Taking Derivatives in Python ###"
   ]
  },
  {
   "cell_type": "markdown",
   "metadata": {},
   "source": [
    "#### Example 1: ###\n",
    "\n",
    "Find the derivative of $f(x) = 2x^3$"
   ]
  },
  {
   "cell_type": "code",
   "execution_count": 1,
   "metadata": {},
   "outputs": [],
   "source": [
    "import sympy as sym #import the library\n",
    "import matplotlib.pyplot as plt\n",
    "import numpy as np\n",
    "import math"
   ]
  },
  {
   "cell_type": "code",
   "execution_count": 2,
   "metadata": {},
   "outputs": [],
   "source": [
    "x = sym.Symbol('x') # Declare a variable that you will use as a letter in your functions."
   ]
  },
  {
   "cell_type": "code",
   "execution_count": 3,
   "metadata": {},
   "outputs": [],
   "source": [
    "f = lambda x: 2*x**3"
   ]
  },
  {
   "cell_type": "code",
   "execution_count": 4,
   "metadata": {},
   "outputs": [],
   "source": [
    "diff_f = sym.diff(2*x**3)"
   ]
  },
  {
   "cell_type": "code",
   "execution_count": 5,
   "metadata": {},
   "outputs": [
    {
     "data": {
      "text/latex": [
       "$\\displaystyle 6 x^{2}$"
      ],
      "text/plain": [
       "6*x**2"
      ]
     },
     "execution_count": 5,
     "metadata": {},
     "output_type": "execute_result"
    }
   ],
   "source": [
    "diff_f "
   ]
  },
  {
   "cell_type": "code",
   "execution_count": 6,
   "metadata": {},
   "outputs": [],
   "source": [
    "diff_f_func = sym.lambdify(x, diff_f) # Use method lambdify to convert the derivative into a funciton"
   ]
  },
  {
   "cell_type": "code",
   "execution_count": 7,
   "metadata": {},
   "outputs": [
    {
     "data": {
      "text/plain": [
       "250"
      ]
     },
     "execution_count": 7,
     "metadata": {},
     "output_type": "execute_result"
    }
   ],
   "source": [
    "f(5)"
   ]
  },
  {
   "cell_type": "code",
   "execution_count": 8,
   "metadata": {},
   "outputs": [
    {
     "data": {
      "text/plain": [
       "150"
      ]
     },
     "execution_count": 8,
     "metadata": {},
     "output_type": "execute_result"
    }
   ],
   "source": [
    "diff_f_func(5) #Find the derivative of function f at point x = 5"
   ]
  },
  {
   "cell_type": "markdown",
   "metadata": {},
   "source": [
    "#### Exercise 1 ####\n",
    "Write a function named plot_derivative that takes as input a string representing a function and a  tuple representing the interval in the x-axis and plots both the function and its derivate in the specified interval."
   ]
  },
  {
   "cell_type": "code",
   "execution_count": 9,
   "metadata": {},
   "outputs": [],
   "source": [
    "def plot_derivatives(f,  interval):\n",
    "    (start, end) = interval\n",
    "    func = lambda x: eval(f)\n",
    "    x = sym.Symbol('x')\n",
    "    diff = sym.diff(eval(f))\n",
    "    diff_func = sym.lambdify(x, diff)\n",
    "    domain = np.linspace(start, end, 1000)\n",
    "    plt.plot(domain, np.vectorize(func)(domain), label = f)\n",
    "    plt.plot(domain, np.vectorize(diff_func)(domain), label = diff)\n",
    "    plt.grid(linestyle='--', linewidth=0.5)\n",
    "    plt.legend()\n",
    "    plt.show()"
   ]
  },
  {
   "cell_type": "code",
   "execution_count": 10,
   "metadata": {},
   "outputs": [
    {
     "data": {
      "image/png": "[encoded data removed]",
      "text/plain": [
       "<Figure size 432x288 with 1 Axes>"
      ]
     },
     "metadata": {
      "needs_background": "light"
     },
     "output_type": "display_data"
    }
   ],
   "source": [
    "plot_derivatives('x**2', (-1,1))"
   ]
  },
  {
   "cell_type": "markdown",
   "metadata": {},
   "source": [
    "### Exercise 2 ###\n",
    "1. Derive the derivative of $f(x) = ln(x)$ directly from the definition of the derivative as a limit.\n",
    "2. Write a function that plot $f(x)$ and $f'(x)$.\n"
   ]
  },
  {
   "cell_type": "code",
   "execution_count": 11,
   "metadata": {},
   "outputs": [],
   "source": [
    "def plot_logarithmic(domain):\n",
    "    interval = np.linspace(domain[0], domain[1], 1000)\n",
    "    x = sym.symbols('x')\n",
    "    log_f = lambda x: math.log(x)\n",
    "    diff_log = sym.lambdify(x, sym.diff(sym.log(x)))\n",
    "    f = np.vectorize(log_f)(interval)\n",
    "    df = np.vectorize(diff_log)(interval)\n",
    "    plt.plot(interval, f, label = r\"$ln(x)$\")\n",
    "    plt.plot(interval, df, label = r\"$\\frac{1}{x}$\")\n",
    "    plt.legend()\n",
    "    plt.show()"
   ]
  },
  {
   "cell_type": "code",
   "execution_count": 12,
   "metadata": {},
   "outputs": [
    {
     "data": {
      "image/png": "[encoded data removed]",
      "text/plain": [
       "<Figure size 432x288 with 1 Axes>"
      ]
     },
     "metadata": {
      "needs_background": "light"
     },
     "output_type": "display_data"
    }
   ],
   "source": [
    "plot_logarithmic((1,20))"
   ]
  },
  {
   "cell_type": "markdown",
   "metadata": {},
   "source": [
    "## First derivative Approximations ##"
   ]
  },
  {
   "cell_type": "markdown",
   "metadata": {},
   "source": [
    "Three approximations to the derivative $f'(x)$ are:\n",
    "\n",
    "1. the one-sided(forward) difference: $\\frac{f(x + \\Delta x) - f(x)}{\\Delta x}$\n",
    "\n",
    "2. the one-sided(backward) difference: $\\frac{f(x) - f(x - \\Delta x)}{\\Delta x}$\n",
    "\n",
    "3. the central difference: $\\frac{f(x + \\Delta x)  - f(x - \\Delta x)}{2\\Delta x}$"
   ]
  },
  {
   "cell_type": "markdown",
   "metadata": {},
   "source": [
    "### Exercise 3 ###\n",
    "Implement the following functions:"
   ]
  },
  {
   "cell_type": "code",
   "execution_count": 13,
   "metadata": {},
   "outputs": [],
   "source": [
    "def forward_difference(f, x, delta):\n",
    "    return (f(x + delta) - f(x))/delta\n",
    "def backward_difference(f, x, delta):\n",
    "    return (f(x) - f(x - delta))/delta\n",
    "def central_difference(f, x, delta):\n",
    "    return (f(x + delta) - f(x - delta))/(2*delta)"
   ]
  },
  {
   "cell_type": "markdown",
   "metadata": {},
   "source": [
    "### Exercise 4 ###\n",
    "Use the forward difference, and the values of $\\Delta x$ shown, to approximate the derivative of $cos(x)$ at $x = \\pi/3$.\n",
    "\n",
    "a) $\\Delta x$ = 0.1\n",
    "\n",
    "b) $\\Delta x$ = 0.01\n",
    "\n",
    "c) $\\Delta x$ = 0.001\n",
    "\n",
    "d) $\\Delta x$ = 0.0001"
   ]
  },
  {
   "cell_type": "code",
   "execution_count": 14,
   "metadata": {},
   "outputs": [],
   "source": [
    "from math import cos, sin, pi\n",
    "deltas = [0.1, 0.01, 0.001, 0.0001]\n",
    "y = np.vectorize(forward_difference)(cos, pi/3, deltas)\n",
    "#find the exact value of the derivative:\n",
    "diff = -sin(pi/3)\n",
    "#print the error produced for each value of delta\n",
    "error = y - diff"
   ]
  },
  {
   "cell_type": "code",
   "execution_count": 15,
   "metadata": {},
   "outputs": [
    {
     "name": "stdout",
     "output_type": "stream",
     "text": [
      "Approximations [-0.88956192 -0.86851095 -0.86627526 -0.8660504 ]\n",
      "Exact Diff Value -0.8660254037844386\n",
      "Errors,  [-2.35365195e-02 -2.48554548e-03 -2.49855642e-04 -2.49985567e-05]\n"
     ]
    }
   ],
   "source": [
    "print(\"Approximations\", y)\n",
    "print(\"Exact Diff Value\", diff)\n",
    "print(\"Errors, \", error)"
   ]
  },
  {
   "cell_type": "markdown",
   "metadata": {},
   "source": [
    "### Exercise 4 ###\n",
    "Use the central difference, and the values of $\\Delta x$ shown, to approximate the derivative of $cos(x)$ at $x = \\pi/3$.\n",
    "\n",
    "a) $\\Delta x$ = 0.1\n",
    "\n",
    "b) $\\Delta x$ = 0.01\n",
    "\n",
    "c) $\\Delta x$ = 0.001\n",
    "\n",
    "d) $\\Delta x$ = 0.0001"
   ]
  },
  {
   "cell_type": "code",
   "execution_count": 16,
   "metadata": {},
   "outputs": [],
   "source": [
    "deltas = [0.1, 0.01, 0.001, 0.0001]\n",
    "y = np.vectorize(central_difference)(cos, pi/3, deltas)\n",
    "#find the exact value of the derivative:\n",
    "diff = -sin(pi/3)\n",
    "#print the error produced for each value of delta\n",
    "error = y - diff"
   ]
  },
  {
   "cell_type": "code",
   "execution_count": 17,
   "metadata": {},
   "outputs": [
    {
     "name": "stdout",
     "output_type": "stream",
     "text": [
      "Approximations [-0.86458275 -0.86601097 -0.86602526 -0.8660254 ]\n",
      "Exact Diff Value -0.8660254037844386\n",
      "Errors,  [1.44265416e-03 1.44336846e-05 1.44337649e-07 1.44345225e-09]\n"
     ]
    }
   ],
   "source": [
    "print(\"Approximations\", y)\n",
    "print(\"Exact Diff Value\", diff)\n",
    "print(\"Errors, \", error)"
   ]
  },
  {
   "cell_type": "markdown",
   "metadata": {},
   "source": [
    "### Exercise 5 ###\n",
    "The distance x of a runner from a fixed point is measured (in meters) at intervals of half a second. The data are:\n",
    "\n",
    "((0.0, 0.00), (0.5, 3.65), (1.0, 6.80), (1.5, 9.90), (2.0, 12.15))\n",
    "\n",
    "Use central differences to approximate the runner's velocity at times t = 0.5 s at t = 1.25 s"
   ]
  },
  {
   "cell_type": "markdown",
   "metadata": {},
   "source": [
    "$$ \n",
    "x'(0.5) \\approx \\frac{x(1.0) - x(0.0)}{2*0.5} = \\frac{6.8 - 0}{1} = 6.8 m/s\n",
    "$$\n",
    "\n",
    "$$ \n",
    "x'(1.25) \\approx \\frac{x(1.5) - x(1.0)}{2*0.25} = \\frac{9.9 - 6.8}{0.5} = 4.4 m/s\n",
    "$$"
   ]
  },
  {
   "cell_type": "markdown",
   "metadata": {},
   "source": [
    "## Second Derivative Approximation ##\n",
    "\n",
    "A central difference approximation ot the second derivative $f''(x)$ is:\n",
    "\n",
    "$$ f''(x) \\approx \\frac{f(x + \\Delta x) - 2f(x) + f(x - \\Delta x)}{\\Delta x^2} $$"
   ]
  },
  {
   "cell_type": "markdown",
   "metadata": {},
   "source": [
    "## Exercise 6 ##\n",
    "\n",
    "Consideing the distance of the runner x, user a central difference to approximate the runner's acceleration at t = 1.5s."
   ]
  },
  {
   "cell_type": "markdown",
   "metadata": {},
   "source": [
    "$$ x''(1.5) \\approx \\frac{x(2.0) - 2x(1.5) + x(1.0)}{0.5^2} = -3.40m/s^2 $$"
   ]
  },
  {
   "cell_type": "markdown",
   "metadata": {},
   "source": [
    "Credits: https://learn.lboro.ac.uk/archive/olmp/olmp_resources/pages/workbooks_1_50_jan2008/Workbook31/31_3_num_diff.pdf"
   ]
  },
  {
   "cell_type": "markdown",
   "metadata": {},
   "source": [
    "## numpy.gradient() ##"
   ]
  },
  {
   "cell_type": "code",
   "execution_count": 18,
   "metadata": {},
   "outputs": [],
   "source": [
    "import numpy as np"
   ]
  },
  {
   "cell_type": "markdown",
   "metadata": {},
   "source": [
    "### Exercise 7 ###\n",
    "\n",
    "Compute the gradients of $f(x) = x^2$ for 1000 points uniformly spread in the [-1, 1] interval."
   ]
  },
  {
   "cell_type": "code",
   "execution_count": null,
   "metadata": {},
   "outputs": [],
   "source": []
  },
  {
   "cell_type": "code",
   "execution_count": 19,
   "metadata": {},
   "outputs": [
    {
     "data": {
      "text/plain": [
       "array([-1.77777778, -1.55555556, -1.11111111, -0.66666667, -0.22222222,\n",
       "        0.22222222,  0.66666667,  1.11111111,  1.55555556,  1.77777778])"
      ]
     },
     "execution_count": 19,
     "metadata": {},
     "output_type": "execute_result"
    }
   ],
   "source": [
    "interval = np.linspace(-1, 1, 10)\n",
    "np.gradient(np.vectorize(lambda x: x**2)(interval), interval)"
   ]
  },
  {
   "cell_type": "markdown",
   "metadata": {},
   "source": [
    "### Exercise 8 ###\n",
    "\n",
    "Using gradient method of numpy compute the velocity at any point in time in distance function given in Exercise 5."
   ]
  },
  {
   "cell_type": "code",
   "execution_count": 20,
   "metadata": {},
   "outputs": [
    {
     "data": {
      "text/plain": [
       "array([7.3 , 6.8 , 6.25, 5.35, 4.5 ])"
      ]
     },
     "execution_count": 20,
     "metadata": {},
     "output_type": "execute_result"
    }
   ],
   "source": [
    "np.gradient([0, 3.65, 6.8, 9.9, 12.15], [0, 0.5, 1, 1.5, 2])"
   ]
  },
  {
   "cell_type": "markdown",
   "metadata": {},
   "source": [
    "## Partial Derivatives ## "
   ]
  },
  {
   "cell_type": "code",
   "execution_count": 21,
   "metadata": {},
   "outputs": [
    {
     "name": "stdout",
     "output_type": "stream",
     "text": [
      "Gradient is  [2*x, 2*y]\n"
     ]
    }
   ],
   "source": [
    "x, y = sym.symbols('x y')\n",
    "print(\"Gradient is \", [sym.diff('x**2 + y**2', x), sym.diff('x**2 + y**2', y)])"
   ]
  }
 ],
 "metadata": {
  "kernelspec": {
   "display_name": "Python 3 (ipykernel)",
   "language": "python",
   "name": "python3"
  },
  "language_info": {
   "codemirror_mode": {
    "name": "ipython",
    "version": 3
   },
   "file_extension": ".py",
   "mimetype": "text/x-python",
   "name": "python",
   "nbconvert_exporter": "python",
   "pygments_lexer": "ipython3",
   "version": "3.9.12"
  }
 },
 "nbformat": 4,
 "nbformat_minor": 4
}
